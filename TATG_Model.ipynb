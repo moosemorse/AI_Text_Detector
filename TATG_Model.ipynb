{
  "nbformat": 4,
  "nbformat_minor": 0,
  "metadata": {
    "colab": {
      "provenance": [],
      "gpuType": "T4",
      "mount_file_id": "168XcWTmANIMBcV1xpYhGdLbOSsUadtSt",
      "authorship_tag": "ABX9TyMcZw9JThyxL9DSZ4jwXZhO",
      "include_colab_link": true
    },
    "kernelspec": {
      "name": "python3",
      "display_name": "Python 3"
    },
    "language_info": {
      "name": "python"
    },
    "accelerator": "GPU"
  },
  "cells": [
    {
      "cell_type": "markdown",
      "metadata": {
        "id": "view-in-github",
        "colab_type": "text"
      },
      "source": [
        "<a href=\"https://colab.research.google.com/github/moosemorse/AI_Text_Detector/blob/main/TATG_Model.ipynb\" target=\"_parent\"><img src=\"https://colab.research.google.com/assets/colab-badge.svg\" alt=\"Open In Colab\"/></a>"
      ]
    },
    {
      "cell_type": "markdown",
      "source": [
        "# Setup"
      ],
      "metadata": {
        "id": "qzPe8PSsgN-I"
      }
    },
    {
      "cell_type": "code",
      "source": [
        "#gets rid of installation dialogue\n",
        "%%capture\n",
        "!pip install transformers\n",
        "!pip install pytorch\n",
        "!pip install datasets"
      ],
      "metadata": {
        "id": "NuwK-to1gZe3"
      },
      "execution_count": 3,
      "outputs": []
    },
    {
      "cell_type": "code",
      "source": [
        "import os\n",
        "import matplotlib.pyplot as plt\n",
        "from google.colab import files, drive\n",
        "from datasets import load_dataset\n",
        "import pandas as pd\n",
        "import seaborn as sns\n",
        "import torch\n",
        "from torch.utils.data import Dataset, DataLoader\n",
        "from transformers import RobertaTokenizer\n",
        "import numpy as np"
      ],
      "metadata": {
        "id": "sNuIz1VTq4T6"
      },
      "execution_count": 4,
      "outputs": []
    },
    {
      "cell_type": "code",
      "source": [
        "#mount drive, gain access to file in google drive\n",
        "drive.mount('/content/drive', force_remount=False)\n",
        "\n",
        "#obtain csv file and store in var 'df' as dataframe\n",
        "train_path = \"drive/MyDrive/GPT-wiki-intro.csv\"\n",
        "df = pd.read_csv(train_path)"
      ],
      "metadata": {
        "colab": {
          "base_uri": "https://localhost:8080/"
        },
        "id": "yjN-pLsTBIMW",
        "outputId": "23802e4e-481e-4201-e926-03dfb71d5014"
      },
      "execution_count": 5,
      "outputs": [
        {
          "output_type": "stream",
          "name": "stdout",
          "text": [
            "Drive already mounted at /content/drive; to attempt to forcibly remount, call drive.mount(\"/content/drive\", force_remount=True).\n"
          ]
        }
      ]
    },
    {
      "cell_type": "markdown",
      "source": [
        "# Inspect data"
      ],
      "metadata": {
        "id": "nNPDZfID3nqu"
      }
    },
    {
      "cell_type": "code",
      "source": [
        "#data to describe csv file\n",
        "print(df.describe())"
      ],
      "metadata": {
        "colab": {
          "base_uri": "https://localhost:8080/"
        },
        "id": "doidpjeS3rBZ",
        "outputId": "a59091a6-04e2-420d-eac4-dbf7e3a24432"
      },
      "execution_count": null,
      "outputs": [
        {
          "output_type": "stream",
          "name": "stdout",
          "text": [
            "                 id      title_len  wiki_intro_len  generated_intro_len  \\\n",
            "count  1.500000e+05  150000.000000   150000.000000        150000.000000   \n",
            "mean   2.498393e+07       2.215380      196.005113           129.469147   \n",
            "std    2.143867e+07       0.629514       41.444268            57.040399   \n",
            "min    3.050000e+02       1.000000      150.000000             7.000000   \n",
            "25%    4.431408e+06       2.000000      164.000000            86.000000   \n",
            "50%    2.072982e+07       2.000000      184.000000           122.000000   \n",
            "75%    4.231795e+07       3.000000      216.000000           170.000000   \n",
            "max    7.020174e+07       3.000000      350.000000           278.000000   \n",
            "\n",
            "       prompt_tokens  generated_text_tokens  \n",
            "count  150000.000000          150000.000000  \n",
            "mean       28.957760             165.740753  \n",
            "std         5.045038              77.221271  \n",
            "min        21.000000               1.000000  \n",
            "25%        26.000000             107.000000  \n",
            "50%        28.000000             155.000000  \n",
            "75%        31.000000             220.000000  \n",
            "max       148.000000             300.000000  \n"
          ]
        }
      ]
    },
    {
      "cell_type": "code",
      "source": [
        "df.head()"
      ],
      "metadata": {
        "colab": {
          "base_uri": "https://localhost:8080/",
          "height": 467
        },
        "id": "bTX_haHOM0HP",
        "outputId": "366d1627-235e-4743-bf9b-825faba5e48f"
      },
      "execution_count": 6,
      "outputs": [
        {
          "output_type": "execute_result",
          "data": {
            "text/plain": [
              "         id                                                url  \\\n",
              "0  63064638  https://en.wikipedia.org/wiki/Sexhow%20railway...   \n",
              "1    279621        https://en.wikipedia.org/wiki/Eti%C3%A4inen   \n",
              "2    287229  https://en.wikipedia.org/wiki/Inverse%20functi...   \n",
              "3  26712375  https://en.wikipedia.org/wiki/Stepping%20on%20...   \n",
              "4  38894426        https://en.wikipedia.org/wiki/Rob%20Bradley   \n",
              "\n",
              "                      title  \\\n",
              "0    Sexhow railway station   \n",
              "1                  Etiäinen   \n",
              "2  Inverse function theorem   \n",
              "3         Stepping on Roses   \n",
              "4               Rob Bradley   \n",
              "\n",
              "                                          wiki_intro  \\\n",
              "0  Sexhow railway station was a railway station b...   \n",
              "1  In Finnish folklore, all places and things, an...   \n",
              "2  In mathematics, specifically differential calc...   \n",
              "3  is a Japanese shōjo manga series written and i...   \n",
              "4  Robert Milner \"Rob\" Bradley, Jr. (born August ...   \n",
              "\n",
              "                                     generated_intro  title_len  \\\n",
              "0  Sexhow railway station was a railway station l...          3   \n",
              "1  In Finnish folklore, all places and things, an...          1   \n",
              "2  In mathematics, specifically differential calc...          3   \n",
              "3  is a Japanese shōjo manga series written and i...          3   \n",
              "4  Robert Milner \"Rob\" Bradley, Jr. (born August ...          2   \n",
              "\n",
              "   wiki_intro_len  generated_intro_len  \\\n",
              "0             174                   78   \n",
              "1             187                   80   \n",
              "2             170                   59   \n",
              "3             335                  121   \n",
              "4             170                  136   \n",
              "\n",
              "                                              prompt  \\\n",
              "0  200 word wikipedia style introduction on 'Sexh...   \n",
              "1  200 word wikipedia style introduction on 'Etiä...   \n",
              "2  200 word wikipedia style introduction on 'Inve...   \n",
              "3  200 word wikipedia style introduction on 'Step...   \n",
              "4  200 word wikipedia style introduction on 'Rob ...   \n",
              "\n",
              "                                      generated_text  prompt_tokens  \\\n",
              "0   located in the town of Sexhow, on the Cumbria...             25   \n",
              "1   animate or inanimate, have a spirit or \"etiäi...             26   \n",
              "2   function theorem states that for every real-v...             26   \n",
              "3   and illustrated by Maki Fujii. The series fol...             26   \n",
              "4   29, 1973) is an American former professional ...             28   \n",
              "\n",
              "   generated_text_tokens  \n",
              "0                     88  \n",
              "1                    101  \n",
              "2                     65  \n",
              "3                    150  \n",
              "4                    162  "
            ],
            "text/html": [
              "\n",
              "  <div id=\"df-8ba98224-8d5d-4554-9f6f-1a7339e66774\" class=\"colab-df-container\">\n",
              "    <div>\n",
              "<style scoped>\n",
              "    .dataframe tbody tr th:only-of-type {\n",
              "        vertical-align: middle;\n",
              "    }\n",
              "\n",
              "    .dataframe tbody tr th {\n",
              "        vertical-align: top;\n",
              "    }\n",
              "\n",
              "    .dataframe thead th {\n",
              "        text-align: right;\n",
              "    }\n",
              "</style>\n",
              "<table border=\"1\" class=\"dataframe\">\n",
              "  <thead>\n",
              "    <tr style=\"text-align: right;\">\n",
              "      <th></th>\n",
              "      <th>id</th>\n",
              "      <th>url</th>\n",
              "      <th>title</th>\n",
              "      <th>wiki_intro</th>\n",
              "      <th>generated_intro</th>\n",
              "      <th>title_len</th>\n",
              "      <th>wiki_intro_len</th>\n",
              "      <th>generated_intro_len</th>\n",
              "      <th>prompt</th>\n",
              "      <th>generated_text</th>\n",
              "      <th>prompt_tokens</th>\n",
              "      <th>generated_text_tokens</th>\n",
              "    </tr>\n",
              "  </thead>\n",
              "  <tbody>\n",
              "    <tr>\n",
              "      <th>0</th>\n",
              "      <td>63064638</td>\n",
              "      <td>https://en.wikipedia.org/wiki/Sexhow%20railway...</td>\n",
              "      <td>Sexhow railway station</td>\n",
              "      <td>Sexhow railway station was a railway station b...</td>\n",
              "      <td>Sexhow railway station was a railway station l...</td>\n",
              "      <td>3</td>\n",
              "      <td>174</td>\n",
              "      <td>78</td>\n",
              "      <td>200 word wikipedia style introduction on 'Sexh...</td>\n",
              "      <td>located in the town of Sexhow, on the Cumbria...</td>\n",
              "      <td>25</td>\n",
              "      <td>88</td>\n",
              "    </tr>\n",
              "    <tr>\n",
              "      <th>1</th>\n",
              "      <td>279621</td>\n",
              "      <td>https://en.wikipedia.org/wiki/Eti%C3%A4inen</td>\n",
              "      <td>Etiäinen</td>\n",
              "      <td>In Finnish folklore, all places and things, an...</td>\n",
              "      <td>In Finnish folklore, all places and things, an...</td>\n",
              "      <td>1</td>\n",
              "      <td>187</td>\n",
              "      <td>80</td>\n",
              "      <td>200 word wikipedia style introduction on 'Etiä...</td>\n",
              "      <td>animate or inanimate, have a spirit or \"etiäi...</td>\n",
              "      <td>26</td>\n",
              "      <td>101</td>\n",
              "    </tr>\n",
              "    <tr>\n",
              "      <th>2</th>\n",
              "      <td>287229</td>\n",
              "      <td>https://en.wikipedia.org/wiki/Inverse%20functi...</td>\n",
              "      <td>Inverse function theorem</td>\n",
              "      <td>In mathematics, specifically differential calc...</td>\n",
              "      <td>In mathematics, specifically differential calc...</td>\n",
              "      <td>3</td>\n",
              "      <td>170</td>\n",
              "      <td>59</td>\n",
              "      <td>200 word wikipedia style introduction on 'Inve...</td>\n",
              "      <td>function theorem states that for every real-v...</td>\n",
              "      <td>26</td>\n",
              "      <td>65</td>\n",
              "    </tr>\n",
              "    <tr>\n",
              "      <th>3</th>\n",
              "      <td>26712375</td>\n",
              "      <td>https://en.wikipedia.org/wiki/Stepping%20on%20...</td>\n",
              "      <td>Stepping on Roses</td>\n",
              "      <td>is a Japanese shōjo manga series written and i...</td>\n",
              "      <td>is a Japanese shōjo manga series written and i...</td>\n",
              "      <td>3</td>\n",
              "      <td>335</td>\n",
              "      <td>121</td>\n",
              "      <td>200 word wikipedia style introduction on 'Step...</td>\n",
              "      <td>and illustrated by Maki Fujii. The series fol...</td>\n",
              "      <td>26</td>\n",
              "      <td>150</td>\n",
              "    </tr>\n",
              "    <tr>\n",
              "      <th>4</th>\n",
              "      <td>38894426</td>\n",
              "      <td>https://en.wikipedia.org/wiki/Rob%20Bradley</td>\n",
              "      <td>Rob Bradley</td>\n",
              "      <td>Robert Milner \"Rob\" Bradley, Jr. (born August ...</td>\n",
              "      <td>Robert Milner \"Rob\" Bradley, Jr. (born August ...</td>\n",
              "      <td>2</td>\n",
              "      <td>170</td>\n",
              "      <td>136</td>\n",
              "      <td>200 word wikipedia style introduction on 'Rob ...</td>\n",
              "      <td>29, 1973) is an American former professional ...</td>\n",
              "      <td>28</td>\n",
              "      <td>162</td>\n",
              "    </tr>\n",
              "  </tbody>\n",
              "</table>\n",
              "</div>\n",
              "    <div class=\"colab-df-buttons\">\n",
              "\n",
              "  <div class=\"colab-df-container\">\n",
              "    <button class=\"colab-df-convert\" onclick=\"convertToInteractive('df-8ba98224-8d5d-4554-9f6f-1a7339e66774')\"\n",
              "            title=\"Convert this dataframe to an interactive table.\"\n",
              "            style=\"display:none;\">\n",
              "\n",
              "  <svg xmlns=\"http://www.w3.org/2000/svg\" height=\"24px\" viewBox=\"0 -960 960 960\">\n",
              "    <path d=\"M120-120v-720h720v720H120Zm60-500h600v-160H180v160Zm220 220h160v-160H400v160Zm0 220h160v-160H400v160ZM180-400h160v-160H180v160Zm440 0h160v-160H620v160ZM180-180h160v-160H180v160Zm440 0h160v-160H620v160Z\"/>\n",
              "  </svg>\n",
              "    </button>\n",
              "\n",
              "  <style>\n",
              "    .colab-df-container {\n",
              "      display:flex;\n",
              "      gap: 12px;\n",
              "    }\n",
              "\n",
              "    .colab-df-convert {\n",
              "      background-color: #E8F0FE;\n",
              "      border: none;\n",
              "      border-radius: 50%;\n",
              "      cursor: pointer;\n",
              "      display: none;\n",
              "      fill: #1967D2;\n",
              "      height: 32px;\n",
              "      padding: 0 0 0 0;\n",
              "      width: 32px;\n",
              "    }\n",
              "\n",
              "    .colab-df-convert:hover {\n",
              "      background-color: #E2EBFA;\n",
              "      box-shadow: 0px 1px 2px rgba(60, 64, 67, 0.3), 0px 1px 3px 1px rgba(60, 64, 67, 0.15);\n",
              "      fill: #174EA6;\n",
              "    }\n",
              "\n",
              "    .colab-df-buttons div {\n",
              "      margin-bottom: 4px;\n",
              "    }\n",
              "\n",
              "    [theme=dark] .colab-df-convert {\n",
              "      background-color: #3B4455;\n",
              "      fill: #D2E3FC;\n",
              "    }\n",
              "\n",
              "    [theme=dark] .colab-df-convert:hover {\n",
              "      background-color: #434B5C;\n",
              "      box-shadow: 0px 1px 3px 1px rgba(0, 0, 0, 0.15);\n",
              "      filter: drop-shadow(0px 1px 2px rgba(0, 0, 0, 0.3));\n",
              "      fill: #FFFFFF;\n",
              "    }\n",
              "  </style>\n",
              "\n",
              "    <script>\n",
              "      const buttonEl =\n",
              "        document.querySelector('#df-8ba98224-8d5d-4554-9f6f-1a7339e66774 button.colab-df-convert');\n",
              "      buttonEl.style.display =\n",
              "        google.colab.kernel.accessAllowed ? 'block' : 'none';\n",
              "\n",
              "      async function convertToInteractive(key) {\n",
              "        const element = document.querySelector('#df-8ba98224-8d5d-4554-9f6f-1a7339e66774');\n",
              "        const dataTable =\n",
              "          await google.colab.kernel.invokeFunction('convertToInteractive',\n",
              "                                                    [key], {});\n",
              "        if (!dataTable) return;\n",
              "\n",
              "        const docLinkHtml = 'Like what you see? Visit the ' +\n",
              "          '<a target=\"_blank\" href=https://colab.research.google.com/notebooks/data_table.ipynb>data table notebook</a>'\n",
              "          + ' to learn more about interactive tables.';\n",
              "        element.innerHTML = '';\n",
              "        dataTable['output_type'] = 'display_data';\n",
              "        await google.colab.output.renderOutput(dataTable, element);\n",
              "        const docLink = document.createElement('div');\n",
              "        docLink.innerHTML = docLinkHtml;\n",
              "        element.appendChild(docLink);\n",
              "      }\n",
              "    </script>\n",
              "  </div>\n",
              "\n",
              "\n",
              "<div id=\"df-f813d490-6fd1-4819-a8b6-5b1d66c7a406\">\n",
              "  <button class=\"colab-df-quickchart\" onclick=\"quickchart('df-f813d490-6fd1-4819-a8b6-5b1d66c7a406')\"\n",
              "            title=\"Suggest charts.\"\n",
              "            style=\"display:none;\">\n",
              "\n",
              "<svg xmlns=\"http://www.w3.org/2000/svg\" height=\"24px\"viewBox=\"0 0 24 24\"\n",
              "     width=\"24px\">\n",
              "    <g>\n",
              "        <path d=\"M19 3H5c-1.1 0-2 .9-2 2v14c0 1.1.9 2 2 2h14c1.1 0 2-.9 2-2V5c0-1.1-.9-2-2-2zM9 17H7v-7h2v7zm4 0h-2V7h2v10zm4 0h-2v-4h2v4z\"/>\n",
              "    </g>\n",
              "</svg>\n",
              "  </button>\n",
              "\n",
              "<style>\n",
              "  .colab-df-quickchart {\n",
              "    background-color: #E8F0FE;\n",
              "    border: none;\n",
              "    border-radius: 50%;\n",
              "    cursor: pointer;\n",
              "    display: none;\n",
              "    fill: #1967D2;\n",
              "    height: 32px;\n",
              "    padding: 0 0 0 0;\n",
              "    width: 32px;\n",
              "  }\n",
              "\n",
              "  .colab-df-quickchart:hover {\n",
              "    background-color: #E2EBFA;\n",
              "    box-shadow: 0px 1px 2px rgba(60, 64, 67, 0.3), 0px 1px 3px 1px rgba(60, 64, 67, 0.15);\n",
              "    fill: #174EA6;\n",
              "  }\n",
              "\n",
              "  [theme=dark] .colab-df-quickchart {\n",
              "    background-color: #3B4455;\n",
              "    fill: #D2E3FC;\n",
              "  }\n",
              "\n",
              "  [theme=dark] .colab-df-quickchart:hover {\n",
              "    background-color: #434B5C;\n",
              "    box-shadow: 0px 1px 3px 1px rgba(0, 0, 0, 0.15);\n",
              "    filter: drop-shadow(0px 1px 2px rgba(0, 0, 0, 0.3));\n",
              "    fill: #FFFFFF;\n",
              "  }\n",
              "</style>\n",
              "\n",
              "  <script>\n",
              "    async function quickchart(key) {\n",
              "      const charts = await google.colab.kernel.invokeFunction(\n",
              "          'suggestCharts', [key], {});\n",
              "    }\n",
              "    (() => {\n",
              "      let quickchartButtonEl =\n",
              "        document.querySelector('#df-f813d490-6fd1-4819-a8b6-5b1d66c7a406 button');\n",
              "      quickchartButtonEl.style.display =\n",
              "        google.colab.kernel.accessAllowed ? 'block' : 'none';\n",
              "    })();\n",
              "  </script>\n",
              "</div>\n",
              "    </div>\n",
              "  </div>\n"
            ]
          },
          "metadata": {},
          "execution_count": 6
        }
      ]
    },
    {
      "cell_type": "code",
      "source": [
        "print(df.iloc[0:3].loc[:, ['url', 'title']])\n",
        "#iloc dictates the rows indexed\n",
        "#loc dictates the columns extracted"
      ],
      "metadata": {
        "colab": {
          "base_uri": "https://localhost:8080/"
        },
        "id": "TJamtDrQP6NK",
        "outputId": "87961543-c549-468c-f83b-cd3114fca77a"
      },
      "execution_count": 23,
      "outputs": [
        {
          "output_type": "stream",
          "name": "stdout",
          "text": [
            "                                                 url                     title\n",
            "0  https://en.wikipedia.org/wiki/Sexhow%20railway...    Sexhow railway station\n",
            "1        https://en.wikipedia.org/wiki/Eti%C3%A4inen                  Etiäinen\n",
            "2  https://en.wikipedia.org/wiki/Inverse%20functi...  Inverse function theorem\n"
          ]
        }
      ]
    },
    {
      "cell_type": "code",
      "source": [
        "#visualisation to compare data for human-written text and ai-written text\n",
        "#testing seaborn and these could be helpful for evaluation afterwards\n",
        "sns.countplot(x = 'wiki_intro_len', data = df)\n",
        "plt.show()\n",
        "\n",
        "sns.countplot(x = 'generated_intro_len', data = df)\n",
        "plt.show()"
      ],
      "metadata": {
        "colab": {
          "base_uri": "https://localhost:8080/",
          "height": 885
        },
        "id": "_cUllMAyH0bv",
        "outputId": "a65b3215-64ee-460f-9bf7-ec87b9e06f14"
      },
      "execution_count": null,
      "outputs": [
        {
          "output_type": "display_data",
          "data": {
            "text/plain": [
              "<Figure size 640x480 with 1 Axes>"
            ],
            "image/png": "[encoded data removed]"
          },
          "metadata": {}
        },
        {
          "output_type": "display_data",
          "data": {
            "text/plain": [
              "<Figure size 640x480 with 1 Axes>"
            ],
            "image/png": "[encoded data removed]"
          },
          "metadata": {}
        }
      ]
    },
    {
      "cell_type": "markdown",
      "source": [
        "# Dataset"
      ],
      "metadata": {
        "id": "tQFOz96I3rPP"
      }
    },
    {
      "cell_type": "code",
      "source": [
        "#dataset class inherits dataset module imported from torch\n",
        "class ChatGPT_Dataset(Dataset):\n",
        "\n",
        "  def __init__(self, data_path, tokenizer, labels, max_token_len = 512):\n",
        "    self.labels = labels\n",
        "    self.data_path = data_path\n",
        "    self.tokenizer = tokenizer\n",
        "    self.labels = labels\n",
        "    self.max_token_len = max_token_len\n",
        "\n",
        "  def __len__(self):\n",
        "    return len(self.labels)\n",
        "\n",
        "  def __getitem__(self, idx):\n",
        "    label = self.labels[idx]\n"
      ],
      "metadata": {
        "id": "Gy_IfEz93vJB"
      },
      "execution_count": null,
      "outputs": []
    },
    {
      "cell_type": "code",
      "source": [
        "model_name = 'roberta-base'\n",
        "tokenizer = RobertaTokenizer.from_pretrained(model_name) #use pretrained tokenizer used from Roberta\n",
        "ChatGPT_ds = ChatGPT_Dataset(df, tokenizer, attributes) #instance of dataset\n"
      ],
      "metadata": {
        "id": "LEteGPV5LyUz"
      },
      "execution_count": null,
      "outputs": []
    },
    {
      "cell_type": "markdown",
      "source": [
        "# Creating the model"
      ],
      "metadata": {
        "id": "_JqG4Q0U3vBb"
      }
    },
    {
      "cell_type": "code",
      "source": [],
      "metadata": {
        "id": "4TAjYsM93zuw"
      },
      "execution_count": null,
      "outputs": []
    },
    {
      "cell_type": "markdown",
      "source": [
        "# Evaluating the model"
      ],
      "metadata": {
        "id": "odst6nCW3zMK"
      }
    },
    {
      "cell_type": "code",
      "source": [],
      "metadata": {
        "id": "O0Fh-Knz33Fr"
      },
      "execution_count": null,
      "outputs": []
    }
  ]
}